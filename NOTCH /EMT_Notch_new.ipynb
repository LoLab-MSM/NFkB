{
 "cells": [
  {
   "cell_type": "code",
   "execution_count": 1,
   "metadata": {
    "collapsed": true
   },
   "outputs": [],
   "source": [
    "from pysb.core import *\n",
    "from pysb.integrate import *\n",
    "import matplotlib.pyplot as plt\n",
    "import numpy as np\n",
    "from pysb.integrate import ScipyOdeSimulator as SOS\n",
    "%matplotlib inline"
   ]
  },
  {
   "cell_type": "code",
   "execution_count": 2,
   "metadata": {
    "collapsed": false
   },
   "outputs": [
    {
     "data": {
      "text/plain": [
       "Monomer('NGN2', ['h', 'f'], {'f': ['on', 'off']})"
      ]
     },
     "execution_count": 2,
     "metadata": {},
     "output_type": "execute_result"
    }
   ],
   "source": [
    "Model ()\n",
    "\n",
    "\n",
    "Monomer('L', ['r'])\n",
    "Monomer('R', ['l', 'ysc'])\n",
    "Monomer('YSC', ['lr'])\n",
    "Monomer('ICD', ['csl', 'l'], {'l':['cyto', 'nuc']})\n",
    "Monomer('CSL', ['icd', 'gh'])# gh--> binding site for geneHes1\n",
    "Monomer('gHes1', ['ic', 'ph', 'f'], {'f':['on','off']}) \n",
    "# ic --> binding site for ICD:CSL compex, \n",
    "# ph--> binding site for inhibitor protein HES1\n",
    "Monomer('mHes1', ['f','l'], {'f':['on', 'off'],'l':['cyto','nuc']})\n",
    "Monomer('pHES1', ['gh']) # gh--> binding site for geneHes1\n",
    "Monomer('ASCL1')\n",
    "Monomer('SLUG')\n",
    "Monomer('NGN2', ['h', 'f'], {'f':['on', 'off']})"
   ]
  },
  {
   "cell_type": "code",
   "execution_count": 3,
   "metadata": {
    "collapsed": false
   },
   "outputs": [
    {
     "data": {
      "text/plain": [
       "Observable('Ascl1_levels', ASCL1())"
      ]
     },
     "execution_count": 3,
     "metadata": {},
     "output_type": "execute_result"
    }
   ],
   "source": [
    "#Defining Observables\n",
    "Observable('ICD_obs', ICD(csl = None,l='nuc'))\n",
    "Observable('CSL_on', ICD(csl = 1,l='nuc')%CSL(icd = 1))\n",
    "Observable('Lig', L(r=None))\n",
    "Observable('Receptor', R(l=None))\n",
    "Observable('LR_on', R(l=1)%L(r=1))\n",
    "Observable('CSL_off', CSL(icd=None, gh=None))\n",
    "Observable('mRNA_Hes1', mHes1(f='on',l='cyto'))\n",
    "Observable('protein_HES1', pHES1(gh=None))\n",
    "Observable('Slug_levels', SLUG)\n",
    "Observable('Ascl1_levels', ASCL1)"
   ]
  },
  {
   "cell_type": "code",
   "execution_count": 4,
   "metadata": {
    "collapsed": true
   },
   "outputs": [],
   "source": [
    "#Defining initial conditions and parameters\n",
    "Parameter('L_0', 10000)\n",
    "Parameter('R_0', 5000)\n",
    "Parameter('YSC_0', 500)\n",
    "Parameter('CSL_0', 1000)\n",
    "Parameter('ASCL1_0', 200)\n",
    "Parameter('NGN2_0', 200)\n",
    "Parameter('gHes1_0', 400)\n",
    "\n",
    "Initial(L(r = None), L_0)\n",
    "Initial(R(l = None, ysc = None), R_0)\n",
    "Initial(YSC(lr = None), YSC_0)\n",
    "Initial(CSL(icd = None, gh = None), CSL_0)\n",
    "Initial(gHes1(ic=None, ph=None, f='off'), gHes1_0)"
   ]
  },
  {
   "cell_type": "code",
   "execution_count": 5,
   "metadata": {
    "collapsed": false
   },
   "outputs": [
    {
     "data": {
      "text/plain": [
       "Rule('ICD_formation', YSC(lr=2) % L(r=1) % R(l=1, ysc=2) >> YSC(lr=None) + ICD(csl=None, l='cyto'), kYSCICD)"
      ]
     },
     "execution_count": 5,
     "metadata": {},
     "output_type": "execute_result"
    }
   ],
   "source": [
    "# L + R <> L:R\n",
    "# YSC + L:R <> YSC:L:R\n",
    "# YSC:L:R >> YSC + ICDc\n",
    "Parameter('kLRf', 1e-5)\n",
    "Parameter('kLRr', 1e-5)\n",
    "Parameter('kLRYSCf', 1e-3)\n",
    "Parameter('kLRYSCr', 1e-5)\n",
    "Parameter('kYSCICD', 1e-2)\n",
    "Rule('LR_binding', L(r = None) + R(l= None, ysc = None) <> L(r = 1)%R(l=1, ysc = None), kLRf,kLRr)\n",
    "Rule('YSC_LR_binding', YSC(lr = None) + L(r = 1)%R(l=1, ysc = None) <> YSC(lr = 2)%L(r = 1)%R(l =1, ysc = 2), kLRYSCf, kLRYSCr)\n",
    "Rule('ICD_formation', YSC(lr = 2)%L(r = 1)%R(l =1, ysc = 2) >> YSC(lr = None) + ICD(csl = None,l='cyto'), kYSCICD)"
   ]
  },
  {
   "cell_type": "code",
   "execution_count": 6,
   "metadata": {
    "collapsed": false
   },
   "outputs": [
    {
     "data": {
      "text/plain": [
       "Rule('ICD_CSL_complex', ICD(csl=None, l='nuc') + CSL(icd=None) <> ICD(csl=1, l='nuc') % CSL(icd=1), kICDCSLf, kICDCSLr)"
      ]
     },
     "execution_count": 6,
     "metadata": {},
     "output_type": "execute_result"
    }
   ],
   "source": [
    "# ICDc <> ICDn\n",
    "# ICDn + CSL <> ICDn:CSL\n",
    "Parameter('kICD_c_n', 1)\n",
    "Parameter('kICD_n_c', 1e-3)\n",
    "Parameter('kICDCSLf', 1e-3)\n",
    "Parameter('kICDCSLr', 1e-3)\n",
    "Rule('ICD_cyto_to_nucleus', ICD(csl=None,l='cyto') <> ICD(csl=None,l='nuc'), kICD_c_n,kICD_c_n)\n",
    "Rule('ICD_CSL_complex', ICD(csl = None,l='nuc') + CSL(icd = None) <> ICD(csl = 1,l='nuc')%CSL(icd = 1), kICDCSLf, kICDCSLr)"
   ]
  },
  {
   "cell_type": "code",
   "execution_count": 7,
   "metadata": {
    "collapsed": false
   },
   "outputs": [
    {
     "data": {
      "text/plain": [
       "Rule('mRNA_Hes1_to_Protein_HES1', mHes1(f='on', l='cyto') >> pHES1(gh=None) + mHes1(f='off', l='cyto'), km_trlxn)"
      ]
     },
     "execution_count": 7,
     "metadata": {},
     "output_type": "execute_result"
    }
   ],
   "source": [
    "# gHES1(off) + ICDn:CSL <> gHES1(off):ICDn:CSL\n",
    "# gHES1(off):ICDn:CSL <> gHES1(on):ICDn:CSL\n",
    "# gHES1(on):ICDn:CSL >> mHES1n(off) + gHES1(off):ICDn:CSL\n",
    "# mHES1n(off) <> mHES1c(off)\n",
    "# mHES1c(on) >> pHES1 + mHES1c(off)\n",
    "Parameter('kgICf', 1e-4)\n",
    "Parameter('kgICr', 1e-4)\n",
    "Parameter('kDNApolbind', 1e-2)\n",
    "Parameter('kDNApolunbind', 1e-2)\n",
    "Parameter('kg_trcxn', 1e-2)\n",
    "Parameter('kmH_n_c', 1e-1)\n",
    "Parameter('kmH_c_n', 1e-4)\n",
    "Parameter('kRNApolbind', 1e-2)\n",
    "Parameter('kRNApolunbind', 1e-2)\n",
    "Parameter('km_trlxn', 1e-1)\n",
    "Rule('gHes1_binds_ICDCSL', gHes1(ic=None, ph=None, f='off') + ICD(csl=1,l='nuc')%CSL(icd=1, gh=None) <> gHes1(ic=2,ph=None, f='off')%ICD(csl=1,l='nuc')%CSL(icd=1,gh=2), kgICf, kgICr)\n",
    "Rule('DNAPol_binds_active_gHcomplex', gHes1(ic=2,ph=None, f='off')%ICD(csl=1,l='nuc')%CSL(icd=1,gh=2) <> gHes1(ic=2,ph=None, f='on')%ICD(csl=1,l='nuc')%CSL(icd=1,gh=2), kDNApolbind, kDNApolunbind)\n",
    "Rule('gHes1_IC_complex_to_mRNA_Hes1', gHes1(ic=2,ph=None, f='on')%ICD(csl=1,l='nuc')%CSL(icd=1,gh=2) >> mHes1(f='off',l='nuc') + gHes1(ic=2,ph=None, f='off')%ICD(csl=1,l='nuc')%CSL(icd=1,gh=2), kg_trcxn)\n",
    "Rule('mRNA_Hes1_nuc_to_cyto', mHes1(f='off',l='nuc') <> mHes1(f='off',l='cyto'), kmH_n_c, kmH_c_n)\n",
    "Rule('mHes1_binds_RNAPol', mHes1(f='off', l='cyto') <> mHes1(f='on', l='cyto'), kRNApolbind, kRNApolunbind)\n",
    "Rule('mRNA_Hes1_to_Protein_HES1', mHes1(f='on',l='cyto') >> pHES1(gh=None) + mHes1(f='off',l='cyto'), km_trlxn)"
   ]
  },
  {
   "cell_type": "code",
   "execution_count": 8,
   "metadata": {
    "collapsed": false
   },
   "outputs": [
    {
     "data": {
      "text/plain": [
       "Rule('slug_synth', None >> SLUG(), slug_synth_exp)"
      ]
     },
     "execution_count": 8,
     "metadata": {},
     "output_type": "execute_result"
    }
   ],
   "source": [
    "# mHES1c(off) <> mHES1c(on)\n",
    "# gHES1(off) + pHES1 <> gHES1(off):pHes1\n",
    "# gHES1(on):ICDn:CSL + pHES1 <> gHES1(off):ICDn:CSL:pHES1\n",
    "# gHES1(off):pHES1 + ICDn:CSL <> gHES1(off):pHES1:ICDn:CSL\n",
    "\n",
    "Parameter('kgpHf', 1e-4)\n",
    "Parameter('kgpHr', 1e-4)\n",
    "Parameter('kgICpHf', 1e-5)\n",
    "Parameter('kgICpHr', 1e-5)\n",
    "Parameter('kgpHICf', 1e-5)\n",
    "Parameter('kgpHICr', 1e-5)\n",
    "Rule('pHES1_inhibits_gHes1_1', gHes1(ic=None,ph=None,f='off')+pHES1(gh=None) <> gHes1(ic=None,ph=3,f='off')%pHES1(gh=3), kgpHf, kgpHr)\n",
    "Rule('pHES1_inhibits_gHes1_2', gHes1(ic=2,ph=None, f='on')%ICD(csl=1,l='nuc')%CSL(icd=1,gh=2) + pHES1(gh=None) <> gHes1(ic=2,ph=3, f='off')%ICD(csl=1,l='nuc')%CSL(icd=1,gh=2)%pHES1(gh=3), kgICpHf, kgICpHr)\n",
    "Rule('pHES1_inhibits_gHes1_3', gHes1(ic=None,ph=3,f='off')%pHES1(gh=3) + ICD(csl=1,l='nuc')%CSL(icd=1, gh=None) <> gHes1(ic=2,ph=3,f='off')%pHES1(gh=3)%ICD(csl=1,l='nuc')%CSL(icd=1, gh=2), kgpHICf, kgpHICr)\n",
    "\n",
    "\n",
    "Expression('slug_synth_exp', CSL_on)\n",
    "Rule('slug_synth', None >> SLUG(), slug_synth_exp)"
   ]
  },
  {
   "cell_type": "code",
   "execution_count": 9,
   "metadata": {
    "collapsed": false
   },
   "outputs": [
    {
     "data": {
      "text/plain": [
       "Rule('Recycle_Receptor', None >> R(l=None, ysc=None), r_R)"
      ]
     },
     "execution_count": 9,
     "metadata": {},
     "output_type": "execute_result"
    }
   ],
   "source": [
    "# Decay of species\n",
    "Parameter('d_L', 1e-3)\n",
    "Parameter('d_R', 1e-3)\n",
    "Parameter('d_YSC', 1e-7)\n",
    "Parameter('d_ICD', 1e-2)\n",
    "Parameter('d_CSL', 1e-7)\n",
    "Parameter('d_mH', 1)\n",
    "Parameter('d_pH', 1e-1)\n",
    "Parameter('d_Slug', 1e-8)\n",
    "Parameter('d_NGN2', 1e-12)\n",
    "Parameter('d_Ascl1', 1e-8)\n",
    "Parameter('r_R', 1)\n",
    "Parameter('r_L', 5)\n",
    "Rule('Ligand_decay', L(r=None) >> None, d_L)\n",
    "Rule('Receptor_decay', R(l=None,ysc=None) >> None, d_R)\n",
    "Rule('YSC_decay', YSC(lr=None) >> None, d_YSC)\n",
    "Rule('ICD_decay', ICD(csl=None,l='cyto') >> None, d_ICD)\n",
    "Rule('CSL_decay', CSL(icd=None, gh=None) >> None, d_CSL)\n",
    "Rule('mRNA_Hes1_decay', mHes1(f='off',l='cyto') >> None, d_mH)\n",
    "Rule('protein_HES1_decay', pHES1(gh=None) >> None, d_pH)\n",
    "Rule('Slug_decay', SLUG() >> None, d_Slug)\n",
    "Rule('Ascl1_decay', ASCL1() >> None, d_Ascl1)\n",
    "Rule('Ngn2_decay', NGN2(h=None, f='off') >> None, d_NGN2)\n",
    "Rule('Recycle_ligand', None >> L(r=None), r_L)\n",
    "Rule('Recycle_Receptor', None >> R(l=None,ysc=None), r_R)"
   ]
  },
  {
   "cell_type": "code",
   "execution_count": 10,
   "metadata": {
    "collapsed": true
   },
   "outputs": [],
   "source": [
    "tspan = np.linspace(0, 10000, 1001)\n",
    "sim1 = SOS(model, tspan)\n",
    "sim_result = sim1.run()"
   ]
  },
  {
   "cell_type": "code",
   "execution_count": 11,
   "metadata": {
    "collapsed": false
   },
   "outputs": [
    {
     "data": {
      "image/png": "[encoded data removed]",
      "text/plain": [
       "<matplotlib.figure.Figure at 0x7f10922b8fd0>"
      ]
     },
     "metadata": {},
     "output_type": "display_data"
    }
   ],
   "source": [
    "plt.figure(figsize = (15,5))\n",
    "plt.subplot(131)\n",
    "plt.plot(tspan, sim_result.observables['Lig'], label = 'Ligand')\n",
    "plt.plot(tspan, sim_result.observables['Receptor'], label = 'Receptor')\n",
    "plt.xlabel(\"Time (in min)\", fontsize=10)\n",
    "plt.ylabel(\"Molecules per Cell\", fontsize=10)\n",
    "plt.legend(loc = 0)\n",
    "\n",
    "plt.subplot(132)\n",
    "plt.plot(tspan, sim_result.observables['ICD_obs'], label = 'Nuclear ICD')\n",
    "plt.plot(tspan, sim_result.observables['CSL_on'], label = 'Active CSL')\n",
    "plt.xlabel(\"Time (in min)\", fontsize=10)\n",
    "plt.ylabel(\"Molecules per Cell\", fontsize=10)\n",
    "plt.legend(loc = 0)\n",
    "\n",
    "plt.subplot(133)\n",
    "plt.plot(tspan, sim_result.observables['mRNA_Hes1'], label = 'mRNA Hes1')\n",
    "plt.plot(tspan, sim_result.observables['protein_HES1'], label = 'HES1')\n",
    "plt.plot(tspan, sim_result.observables['Slug_levels'], label = 'SLUG')\n",
    "plt.plot(tspan, sim_result.observables['Ascl1_levels'], label = 'ASCL1')\n",
    "plt.xlabel(\"Time (in min)\", fontsize=10)\n",
    "plt.ylabel(\"Molecules per Cell\", fontsize=10)\n",
    "plt.legend(loc = 0)\n",
    "plt.show()"
   ]
  }
 ],
 "metadata": {
  "kernelspec": {
   "display_name": "Python 2",
   "language": "python",
   "name": "python2"
  },
  "language_info": {
   "codemirror_mode": {
    "name": "ipython",
    "version": 2
   },
   "file_extension": ".py",
   "mimetype": "text/x-python",
   "name": "python",
   "nbconvert_exporter": "python",
   "pygments_lexer": "ipython2",
   "version": "2.7.11"
  }
 },
 "nbformat": 4,
 "nbformat_minor": 0
}
